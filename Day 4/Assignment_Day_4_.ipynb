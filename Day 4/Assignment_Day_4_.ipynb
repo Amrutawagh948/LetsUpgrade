{
  "nbformat": 4,
  "nbformat_minor": 0,
  "metadata": {
    "colab": {
      "name": "Assignment Day 4 .ipynb",
      "provenance": []
    },
    "kernelspec": {
      "name": "python3",
      "display_name": "Python 3"
    }
  },
  "cells": [
    {
      "cell_type": "code",
      "metadata": {
        "id": "UDjeuSqJ4Jkm",
        "colab_type": "code",
        "colab": {}
      },
      "source": [
        "Print the first ArmStrong number in the range of 1042000 to 702648265 and exit the loop as soon as you encounter the first armstrong number (use while loop)."
      ],
      "execution_count": null,
      "outputs": []
    },
    {
      "cell_type": "code",
      "metadata": {
        "id": "czTJUllb6R8C",
        "colab_type": "code",
        "colab": {
          "base_uri": "https://localhost:8080/",
          "height": 34
        },
        "outputId": "ad380d83-255e-4244-8550-3ebcd1c88eba"
      },
      "source": [
        "\n",
        "upper=702648265\n",
        "lowers=1042000\n",
        "for num in range(lowers,upper+1):\n",
        "  o=len(str(num))\n",
        "  sum=0\n",
        "  temp=num\n",
        "  while temp>0:\n",
        "    x=temp%10\n",
        "    sum+=x**o\n",
        "    temp//=10\n",
        "  if num==sum:\n",
        "      print(num)\n",
        "      break"
      ],
      "execution_count": 10,
      "outputs": [
        {
          "output_type": "stream",
          "text": [
            "1741725\n"
          ],
          "name": "stdout"
        }
      ]
    }
  ]
}