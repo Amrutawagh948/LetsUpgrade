{
  "nbformat": 4,
  "nbformat_minor": 0,
  "metadata": {
    "colab": {
      "name": "Assignment Day 8 Question 2.ipynb",
      "provenance": [],
      "collapsed_sections": []
    },
    "kernelspec": {
      "name": "python3",
      "display_name": "Python 3"
    }
  },
  "cells": [
    {
      "cell_type": "code",
      "metadata": {
        "id": "lBYnevR5kFnR",
        "colab_type": "code",
        "colab": {}
      },
      "source": [
        "Question 2\n",
        "\n",
        "For this challenge you need to develop a Python program to open a file in read only mode and try writing something to it and handle the subsequent errors using Exception Handling.\n"
      ],
      "execution_count": null,
      "outputs": []
    },
    {
      "cell_type": "code",
      "metadata": {
        "id": "9zUhyu6ihP90",
        "colab_type": "code",
        "colab": {
          "base_uri": "https://localhost:8080/",
          "height": 50
        },
        "outputId": "ee676ae8-4df6-48d9-95b3-3e2fe747d4a4"
      },
      "source": [
        "try:\n",
        "\n",
        "    file = open(\"amruta.txt\",\"r\")\n",
        "\n",
        "    file.write(\"HI\")\n",
        "\n",
        "    file.close()\n",
        "\n",
        "    print(\"hello\")\n",
        "\n",
        "except Exception as e:\n",
        "\n",
        "    print(e)\n",
        "\n",
        "finally:\n",
        "\n",
        "    print(\"Hey I will execute everything\")"
      ],
      "execution_count": 5,
      "outputs": [
        {
          "output_type": "stream",
          "text": [
            "not writable\n",
            "Hey I will execute everything\n"
          ],
          "name": "stdout"
        }
      ]
    }
  ]
}