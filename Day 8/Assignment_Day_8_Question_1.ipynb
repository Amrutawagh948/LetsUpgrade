{
  "nbformat": 4,
  "nbformat_minor": 0,
  "metadata": {
    "colab": {
      "name": "Assignment Day 8 Question 1.ipynb",
      "provenance": []
    },
    "kernelspec": {
      "name": "python3",
      "display_name": "Python 3"
    }
  },
  "cells": [
    {
      "cell_type": "code",
      "metadata": {
        "id": "-ndcZidPtmNw",
        "colab_type": "code",
        "colab": {}
      },
      "source": [
        "Write a decorator function for your taking input for you any kind of function you want to build,\n",
        "For example - You make a fibonacci series function,in which your input range is been defined by the decorator program input."
      ],
      "execution_count": null,
      "outputs": []
    },
    {
      "cell_type": "code",
      "metadata": {
        "id": "99hv8nJz204X",
        "colab_type": "code",
        "colab": {}
      },
      "source": [
        "def def_input(input_para):\n",
        "\n",
        "    def wrap_function():\n",
        "\n",
        "        a = int(input(\"How many terms you want for Fibonacci sequence? \"))\n",
        "\n",
        "        input_para(a)  \n",
        "\n",
        "    return wrap_function"
      ],
      "execution_count": 1,
      "outputs": []
    },
    {
      "cell_type": "code",
      "metadata": {
        "id": "OfB-jpSIVMMH",
        "colab_type": "code",
        "colab": {}
      },
      "source": [
        "@def_input\n",
        "\n",
        "def Fibonacci(n):\n",
        "\n",
        "    n1 = 0\n",
        "\n",
        "    n2 = 1\n",
        "\n",
        "    count = 0\n",
        "\n",
        "    while n <= 0:\n",
        "\n",
        "        print(\"Invalid Number Entered\")\n",
        "\n",
        "        n = int(input(\"How many terms you want for Fibonacci sequence? \"))\n",
        "\n",
        "    else:\n",
        "\n",
        "       print(\"Fibonacci sequence upto\",n,\"terms:\")\n",
        "\n",
        "       while count < n:\n",
        "\n",
        "           print(n1)\n",
        "\n",
        "           n3 = n1 + n2\n",
        "\n",
        "           n1 = n2\n",
        "\n",
        "           n2 = n3\n",
        "\n",
        "           count += 1"
      ],
      "execution_count": 2,
      "outputs": []
    },
    {
      "cell_type": "code",
      "metadata": {
        "id": "CY16LepbVYML",
        "colab_type": "code",
        "colab": {
          "base_uri": "https://localhost:8080/",
          "height": 185
        },
        "outputId": "db852d6c-6ae7-4d3d-b294-9fc4138b154b"
      },
      "source": [
        "Fibonacci()"
      ],
      "execution_count": 3,
      "outputs": [
        {
          "output_type": "stream",
          "text": [
            "How many terms you want for Fibonacci sequence? 8\n",
            "Fibonacci sequence upto 8 terms:\n",
            "0\n",
            "1\n",
            "1\n",
            "2\n",
            "3\n",
            "5\n",
            "8\n",
            "13\n"
          ],
          "name": "stdout"
        }
      ]
    }
  ]
}