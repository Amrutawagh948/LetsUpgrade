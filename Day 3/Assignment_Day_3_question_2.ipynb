{
  "nbformat": 4,
  "nbformat_minor": 0,
  "metadata": {
    "colab": {
      "name": "Assignment Day 3 question 2.ipynb",
      "provenance": []
    },
    "kernelspec": {
      "name": "python3",
      "display_name": "Python 3"
    }
  },
  "cells": [
    {
      "cell_type": "code",
      "metadata": {
        "id": "eWPpEpgdtin9",
        "colab_type": "code",
        "colab": {}
      },
      "source": [
        "Question\n",
        "\n",
        "Using for loop please print all the prime numbers between 1-200 using for loop and range function "
      ],
      "execution_count": null,
      "outputs": []
    },
    {
      "cell_type": "code",
      "metadata": {
        "id": "K4FJ_W37tkm3",
        "colab_type": "code",
        "colab": {}
      },
      "source": [
        "Answer"
      ],
      "execution_count": null,
      "outputs": []
    },
    {
      "cell_type": "code",
      "metadata": {
        "id": "tNbbg8PytmtW",
        "colab_type": "code",
        "colab": {
          "base_uri": "https://localhost:8080/",
          "height": 34
        },
        "outputId": "180d25e0-0c5b-4287-c2ed-e1cefe288fbb"
      },
      "source": [
        "for number in range(1,201):\n",
        "  if number>1:\n",
        "    for i in range (2,number):\n",
        "      if number%i==0:\n",
        "        break\n",
        "    else:\n",
        "      print(number,end=\",\")       \n",
        "\n",
        "\n"
      ],
      "execution_count": 1,
      "outputs": [
        {
          "output_type": "stream",
          "text": [
            "2,3,5,7,11,13,17,19,23,29,31,37,41,43,47,53,59,61,67,71,73,79,83,89,97,101,103,107,109,113,127,131,137,139,149,151,157,163,167,173,179,181,191,193,197,199,"
          ],
          "name": "stdout"
        }
      ]
    }
  ]
}