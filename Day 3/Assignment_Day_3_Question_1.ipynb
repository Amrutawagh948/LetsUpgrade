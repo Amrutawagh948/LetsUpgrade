{
  "nbformat": 4,
  "nbformat_minor": 0,
  "metadata": {
    "colab": {
      "name": "Assignment Day 3 Question 1.ipynb",
      "provenance": []
    },
    "kernelspec": {
      "name": "python3",
      "display_name": "Python 3"
    }
  },
  "cells": [
    {
      "cell_type": "code",
      "metadata": {
        "id": "KoR5wJlUrP7H",
        "colab_type": "code",
        "colab": {}
      },
      "source": [
        "Assignment Question 1\n",
        "You all are pilots,you want to land plane safely,so altitude required forlanding a plane is 1000ft ,0r less than it tell pilot to land the plane,\n",
        " or it ismore than that but less than 5000ft ask the pilot to \"come down to 1000ft\",else if it more than 5000ft ask the pilot to\"go around and try later\"."
      ],
      "execution_count": null,
      "outputs": []
    },
    {
      "cell_type": "code",
      "metadata": {
        "id": "5JKtZ-uNrSaV",
        "colab_type": "code",
        "colab": {}
      },
      "source": [
        "Answer"
      ],
      "execution_count": null,
      "outputs": []
    },
    {
      "cell_type": "code",
      "metadata": {
        "id": "6FJJldOCrUo1",
        "colab_type": "code",
        "colab": {
          "base_uri": "https://localhost:8080/",
          "height": 50
        },
        "outputId": "2b1b27a9-d0bf-4c29-f3c1-72d27742f65c"
      },
      "source": [
        "num=input(\"Enter any altitude_\")\n",
        "num=int(num)\n",
        "if num<=1000:\n",
        "    print(\"Safe to land\")\n",
        "elif num<=5000:\n",
        "    print(\"Bring down to 1000\")\n",
        "else:\n",
        "    print(\"Turn around\")"
      ],
      "execution_count": 7,
      "outputs": [
        {
          "output_type": "stream",
          "text": [
            "Enter any altitude_1310\n",
            "Bring down to 1000\n"
          ],
          "name": "stdout"
        }
      ]
    }
  ]
}