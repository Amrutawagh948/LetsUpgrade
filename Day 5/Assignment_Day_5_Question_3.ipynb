{
  "nbformat": 4,
  "nbformat_minor": 0,
  "metadata": {
    "colab": {
      "name": "Assignment Day 5 Question 3.ipynb",
      "provenance": []
    },
    "kernelspec": {
      "name": "python3",
      "display_name": "Python 3"
    }
  },
  "cells": [
    {
      "cell_type": "code",
      "metadata": {
        "id": "vNLCrD1bdOiS",
        "colab_type": "code",
        "colab": {}
      },
      "source": [
        "Question 3\n",
        "\n",
        " Make a Lambda function for capitalizing the whole sentence passed using arguments. And map all the sentences in the List, with the lambda functions\n"
      ],
      "execution_count": null,
      "outputs": []
    },
    {
      "cell_type": "code",
      "metadata": {
        "id": "mKshcD7OdnpX",
        "colab_type": "code",
        "colab": {
          "base_uri": "https://localhost:8080/",
          "height": 34
        },
        "outputId": "3f91fc93-6273-41ce-976b-98be568add57"
      },
      "source": [
        "lst=[\"hello\",\"myself amruta wagh\",\"i am from latur(maharashtra)\"]\n",
        "stringlambdawithmap = map(lambda x: x.title(),lst)\n",
        "list(stringlambdawithmap)"
      ],
      "execution_count": 1,
      "outputs": [
        {
          "output_type": "execute_result",
          "data": {
            "text/plain": [
              "['Hello', 'Myself Amruta Wagh', 'I Am From Latur(Maharashtra)']"
            ]
          },
          "metadata": {
            "tags": []
          },
          "execution_count": 1
        }
      ]
    }
  ]
}