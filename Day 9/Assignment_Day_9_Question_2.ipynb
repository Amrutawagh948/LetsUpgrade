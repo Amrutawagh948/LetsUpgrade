{
  "nbformat": 4,
  "nbformat_minor": 0,
  "metadata": {
    "colab": {
      "name": "Assignment Day 9 Question 2.ipynb",
      "provenance": []
    },
    "kernelspec": {
      "name": "python3",
      "display_name": "Python 3"
    }
  },
  "cells": [
    {
      "cell_type": "code",
      "metadata": {
        "id": "j8jb_MJ3nTKL",
        "colab_type": "code",
        "colab": {}
      },
      "source": [
        "Question 2\n",
        "\n",
        "Make a small generator program for returning armstrong numbers in between 1-1000 in a generator object."
      ],
      "execution_count": null,
      "outputs": []
    },
    {
      "cell_type": "code",
      "metadata": {
        "id": "cK5sTSV5oXaU",
        "colab_type": "code",
        "colab": {}
      },
      "source": [
        "lst=list(range(1,1001))"
      ],
      "execution_count": 2,
      "outputs": []
    },
    {
      "cell_type": "code",
      "metadata": {
        "id": "ncXjrGHIof3a",
        "colab_type": "code",
        "colab": {}
      },
      "source": [
        "def GetArmstrongNumber(lst):\n",
        "\n",
        "    for item in lst:\n",
        "\n",
        "        order=len(str(item))\n",
        "\n",
        "        sum=0\n",
        "\n",
        "        temp=item\n",
        "\n",
        "        while temp>0:\n",
        "\n",
        "            digit=temp%10\n",
        "\n",
        "            sum=sum+digit**order\n",
        "\n",
        "            temp//=10\n",
        "\n",
        "        if item==sum:\n",
        "\n",
        "            yield item"
      ],
      "execution_count": 3,
      "outputs": []
    },
    {
      "cell_type": "code",
      "metadata": {
        "id": "N4-EaAs6ojka",
        "colab_type": "code",
        "colab": {
          "base_uri": "https://localhost:8080/",
          "height": 34
        },
        "outputId": "39774c41-23c0-4a9a-efd7-35dbfdd4ff17"
      },
      "source": [
        "print(list(GetArmstrongNumber(lst)))"
      ],
      "execution_count": 4,
      "outputs": [
        {
          "output_type": "stream",
          "text": [
            "[1, 2, 3, 4, 5, 6, 7, 8, 9, 153, 370, 371, 407]\n"
          ],
          "name": "stdout"
        }
      ]
    }
  ]
}