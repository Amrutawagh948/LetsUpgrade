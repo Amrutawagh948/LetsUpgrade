{
  "nbformat": 4,
  "nbformat_minor": 0,
  "metadata": {
    "colab": {
      "name": "Assignment Day 5 Question 1.ipynb",
      "provenance": []
    },
    "kernelspec": {
      "name": "python3",
      "display_name": "Python 3"
    }
  },
  "cells": [
    {
      "cell_type": "code",
      "metadata": {
        "id": "nXk_TuLcrU68",
        "colab_type": "code",
        "colab": {}
      },
      "source": [
        "Write a program to identify sub list [1,1,5] is there in the given list in the same order, if yes print “it’s a Match” if no then print “it’s Gone” in function.\n"
      ],
      "execution_count": null,
      "outputs": []
    },
    {
      "cell_type": "code",
      "metadata": {
        "id": "khITvQA5hwv4",
        "colab_type": "code",
        "colab": {
          "base_uri": "https://localhost:8080/",
          "height": 235
        },
        "outputId": "def9a153-23bd-4884-e8f0-8ea7a0a85cab"
      },
      "source": [
        "n = int(input(\"Enter No. of elements in list \"))\n",
        "lst=[]\n",
        "for i in range(n):\n",
        "    lst.append(int(input(\"Enter elements of list in sequence \")))\n",
        "sub= [1,1,5]\n",
        "print(\"\\nOriginal List \",lst)\n",
        "print(\"\\nList to check \",sub)\n",
        "count,j = 0,0\n",
        "for i in sub:\n",
        "    while j<len(lst):\n",
        "        if lst[j]==i:\n",
        "            j+=1\n",
        "            count+=1\n",
        "            break\n",
        "        j+=1\n",
        "if count==len(sub):\n",
        "    print(\"\\nIt's a Match\")\n",
        "else:\n",
        "    print(\"\\nIt's Gone\")"
      ],
      "execution_count": 3,
      "outputs": [
        {
          "output_type": "stream",
          "text": [
            "Enter No. of elements in list 6\n",
            "Enter elements of list in sequence 1\n",
            "Enter elements of list in sequence 2\n",
            "Enter elements of list in sequence 3\n",
            "Enter elements of list in sequence 4\n",
            "Enter elements of list in sequence 5\n",
            "Enter elements of list in sequence 6\n",
            "\n",
            "Original List  [1, 2, 3, 4, 5, 6]\n",
            "\n",
            "List to check  [1, 1, 5]\n",
            "\n",
            "It's Gone\n"
          ],
          "name": "stdout"
        }
      ]
    }
  ]
}