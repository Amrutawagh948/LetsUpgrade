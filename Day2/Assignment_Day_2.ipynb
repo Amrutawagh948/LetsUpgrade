{
  "nbformat": 4,
  "nbformat_minor": 0,
  "metadata": {
    "colab": {
      "name": "Assignment Day 2.ipynb",
      "provenance": []
    },
    "kernelspec": {
      "name": "python3",
      "display_name": "Python 3"
    }
  },
  "cells": [
    {
      "cell_type": "code",
      "metadata": {
        "id": "vrICrc1Pzdke",
        "colab_type": "code",
        "colab": {}
      },
      "source": [
        "List and its default functions."
      ],
      "execution_count": null,
      "outputs": []
    },
    {
      "cell_type": "code",
      "metadata": {
        "id": "B4ygzaD_zpru",
        "colab_type": "code",
        "colab": {}
      },
      "source": [
        "List:List is a container which canhold different data types in it .\n",
        "     List is complex data type which is derieved from LISt objects .\n",
        "     List should be done only in [].\n",
        "     List elements are always stored in ordered sequence of numbers starting from 0.\n",
        "\n"
      ],
      "execution_count": null,
      "outputs": []
    },
    {
      "cell_type": "code",
      "metadata": {
        "id": "MwRuL_yNs3wr",
        "colab_type": "code",
        "colab": {}
      },
      "source": [
        "     Python offers the following list functions:\n",
        "\n",
        "sort(): Sorts the list in ascending order.\n",
        "type(list): It returns the class type of an object.\n",
        "append(): Adds a single element to a list.\n",
        "extend(): Adds multiple elements to a list.\n",
        "index(): Returns the first appearance of the specified value.\n",
        "max(list): It returns an item from the list with max value.\n",
        "min(list): It returns an item from the list with min value.\n",
        "len(list): It gives the total length of the list.\n",
        "list(seq): Converts a tuple into a list.\n",
        "cmp(list1, list2): It compares elements of both lists list1 and list2.\n",
        "insert(i, x):Inserts an item at a given position. The first argument is the index of the element before which to insert.\n",
        "remove(x)\t:Removes the first item from the list that has a value of x. Returns an error if there is no such item.\n",
        "pop([i]):Removes the item at the given position in the list, and returns it. If no index is specified, pop() removes and returns the last item in the list.\n",
        "clear()\t:Removes all items from the list. Equivalent to del a[:].\n",
        "count(x):Returns the number of times x appears in the list.\n",
        "reverse()\t:Reverses the elements of the list in place.\n",
        "copy():Returns a shallow copy of the list. Equivalent to a[:].\n",
        "range(stop):It can be used along with list() to return a list of items between a given range.\n"
      ],
      "execution_count": null,
      "outputs": []
    },
    {
      "cell_type": "code",
      "metadata": {
        "id": "RD4EMtaL_fTt",
        "colab_type": "code",
        "colab": {}
      },
      "source": [
        "Dictionary and its default function "
      ],
      "execution_count": null,
      "outputs": []
    },
    {
      "cell_type": "code",
      "metadata": {
        "id": "ingl-Gv1_3sC",
        "colab_type": "code",
        "colab": {}
      },
      "source": [
        "Dictionary :It will not have numbering like index.\n",
        "            It is complex."
      ],
      "execution_count": null,
      "outputs": []
    },
    {
      "cell_type": "code",
      "metadata": {
        "id": "ZnFjHV49GOGA",
        "colab_type": "code",
        "colab": {}
      },
      "source": [
        "all():\tReturn True if all keys of the dictionary are True (or if the dictionary is empty).\n",
        "any():\tReturn True if any key of the dictionary is true. If the dictionary is empty, return False.\n",
        "len():\tReturn the length (the number of items) in the dictionary.\n",
        "cmp():\tCompares items of two dictionaries. (Not available in Python 3)\n",
        "sorted():\tReturn a new sorted list of keys in the dictionary.\n",
        "clear():\tRemoves all items from the dictionary.\n",
        "copy():\tReturns a shallow copy of the dictionary.\n",
        "fromkeys(seq[, v]):\tReturns a new dictionary with keys from seq and value equal to v (defaults to None).\n",
        "get(key[,d]):\tReturns the value of the key. If the key does not exist, returns d (defaults to None).\n",
        "items():\tReturn a new object of the dictionary's items in (key, value) format.\n",
        "keys():\tReturns a new object of the dictionary's keys.\n",
        "pop(key[,d]):\tRemoves the item with the key and returns its value or d if key is not found. If d is not provided and the key is not found, it raises KeyError.\n",
        "popitem():\tRemoves and returns an arbitrary item (key, value). Raises KeyError if the dictionary is empty.\n",
        "setdefault(key[,d]):\tReturns the corresponding value if the key is in the dictionary. If not, inserts the key with a value of d and returns d (defaults to None).\n",
        "update([other]):\tUpdates the dictionary with the key/value pairs from other, overwriting existing keys.\n",
        "values():\tReturns a new object of the dictionary's values\n",
        "\n"
      ],
      "execution_count": 1,
      "outputs": []
    },
    {
      "cell_type": "code",
      "metadata": {
        "id": "UVxBkHaZU80w",
        "colab_type": "code",
        "colab": {}
      },
      "source": [
        "Sets and its defaults functions."
      ],
      "execution_count": null,
      "outputs": []
    },
    {
      "cell_type": "code",
      "metadata": {
        "id": "d09ee-AHLfG7",
        "colab_type": "code",
        "colab": {}
      },
      "source": [
        "Sets:sets are used for storing unique values in python \n",
        "     sets are unordered collections of unique objects \n",
        "     sets are complex data structure.\n",
        "     sets are mostly used for finding UNION disjoints.\n",
        "\n",
        "     Built-in functions like all(), any(), enumerate(), len(), max(), min(), sorted(), sum() etc. are commonly used with sets to perform different tasks.:\n"
      ],
      "execution_count": null,
      "outputs": []
    },
    {
      "cell_type": "code",
      "metadata": {
        "id": "kXeJKjxlZUoq",
        "colab_type": "code",
        "colab": {}
      },
      "source": [
        "all():\tReturns True if all elements of the set are true (or if the set is empty).\n",
        "any():\tReturns True if any element of the set is true. If the set is empty, returns False.\n",
        "enumerate():\tReturns an enumerate object. It contains the index and value for all the items of the set as a pair.\n",
        "len():\tReturns the length (the number of items) in the set.\n",
        "max():\tReturns the largest item in the set.\n",
        "min():\tReturns the smallest item in the set.\n",
        "sorted():\tReturns a new sorted list from elements in the set(does not sort the set itself).\n",
        "sum():\tReturns the sum of all elements in the set.\n"
      ],
      "execution_count": null,
      "outputs": []
    },
    {
      "cell_type": "code",
      "metadata": {
        "id": "R4iw2geeocgM",
        "colab_type": "code",
        "colab": {}
      },
      "source": [
        "Tuple and explore its methods."
      ],
      "execution_count": null,
      "outputs": []
    },
    {
      "cell_type": "code",
      "metadata": {
        "id": "bm2uazaupNRZ",
        "colab_type": "code",
        "colab": {}
      },
      "source": [
        "Tuple:In Python, tuples are immutables. Meaning, you cannot change items of a tuple once it is assigned. \n",
        "         There are only two tuple methods count() and index() that a tuple object can call.\n",
        "\n"
      ],
      "execution_count": null,
      "outputs": []
    },
    {
      "cell_type": "code",
      "metadata": {
        "id": "35kGjpxJpwbk",
        "colab_type": "code",
        "colab": {}
      },
      "source": [
        "count():\tReturns the number of times a specified value occurs in a tuple\n",
        "index():\tSearches the tuple for a specified value and returns the position of where it was found\n"
      ],
      "execution_count": null,
      "outputs": []
    },
    {
      "cell_type": "code",
      "metadata": {
        "id": "TVRhx_3Lq_M5",
        "colab_type": "code",
        "colab": {}
      },
      "source": [
        "String and explore default methods"
      ],
      "execution_count": null,
      "outputs": []
    },
    {
      "cell_type": "code",
      "metadata": {
        "id": "oS36QOzGrXrC",
        "colab_type": "code",
        "colab": {}
      },
      "source": [
        "string:Python has a set of built-in methods that you can use on strings.\n",
        "       All string methods returns new values. They do not change the original string.\n",
        "\n"
      ],
      "execution_count": null,
      "outputs": []
    },
    {
      "cell_type": "code",
      "metadata": {
        "id": "zLmHYC2YrZRo",
        "colab_type": "code",
        "colab": {}
      },
      "source": [
        "capitalize():\tConverts the first character to upper case\n",
        "casefold():\tConverts string into lower case\n",
        "center():\tReturns a centered string\n",
        "count():\tReturns the number of times a specified value occurs in a string\n",
        "encode():\tReturns an encoded version of the string\n",
        "endswith():\tReturns true if the string ends with the specified value\n",
        "expandtabs():\tSets the tab size of the string\n",
        "find():\tSearches the string for a specified value and returns the position of where it was found\n",
        "format():\tFormats specified values in a string\n",
        "format_map():\tFormats specified values in a string\n",
        "index():\tSearches the string for a specified value and returns the position of where it was found\n",
        "isalnum():\tReturns True if all characters in the string are alphanumeric\n",
        "isalpha():\tReturns True if all characters in the string are in the alphabet\n",
        "isdecimal():\tReturns True if all characters in the string are decimals\n",
        "isdigit():\tReturns True if all characters in the string are digits\n",
        "isidentifier():\tReturns True if the string is an identifier\n",
        "islower():\tReturns True if all characters in the string are lower case\n",
        "isnumeric():\tReturns True if all characters in the string are numeric\n",
        "isprintable():\tReturns True if all characters in the string are printable\n",
        "isspace():\tReturns True if all characters in the string are whitespaces\n",
        "istitle():\tReturns True if the string follows the rules of a title\n",
        "isupper():\tReturns True if all characters in the string are upper case\n",
        "join():\tJoins the elements of an iterable to the end of the string\n",
        "ljust():\tReturns a left justified version of the string\n",
        "lower():\tConverts a string into lower case\n",
        "lstrip():\tReturns a left trim version of the string\n",
        "maketrans():\tReturns a translation table to be used in translations\n",
        "partition():\tReturns a tuple where the string is parted into three parts\n",
        "replace():\tReturns a string where a specified value is replaced with a specified value\n",
        "rfind():\tSearches the string for a specified value and returns the last position of where it was found\n",
        "rindex():\tSearches the string for a specified value and returns the last position of where it was found\n",
        "rjust():\tReturns a right justified version of the string\n",
        "rpartition():\tReturns a tuple where the string is parted into three parts\n",
        "rsplit():\tSplits the string at the specified separator, and returns a list\n",
        "rstrip():\tReturns a right trim version of the string\n",
        "split():\tSplits the string at the specified separator, and returns a list\n",
        "splitlines():\tSplits the string at line breaks and returns a list\n",
        "startswith():\tReturns true if the string starts with the specified value\n",
        "strip():\tReturns a trimmed version of the string\n",
        "swapcase():\tSwaps cases, lower case becomes upper case and vice versa\n",
        "title():\tConverts the first character of each word to upper case\n",
        "translate():\tReturns a translated string\n",
        "upper():\tConverts a string into upper case\n",
        "zfill()\t:Fills the string with a specified number of 0 values at the beginning\n"
      ],
      "execution_count": null,
      "outputs": []
    }
  ]
}