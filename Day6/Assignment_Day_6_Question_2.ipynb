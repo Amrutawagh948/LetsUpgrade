{
  "nbformat": 4,
  "nbformat_minor": 0,
  "metadata": {
    "colab": {
      "name": "Assignment Day 6 Question 2.ipynb",
      "provenance": []
    },
    "kernelspec": {
      "name": "python3",
      "display_name": "Python 3"
    }
  },
  "cells": [
    {
      "cell_type": "code",
      "metadata": {
        "id": "w8TK04ikbpqM",
        "colab_type": "code",
        "colab": {}
      },
      "source": [
        "Question 2\n",
        "\n",
        "For this challenge,create a cone class that has two attributes:\n",
        "\n",
        "*R=Radius\n",
        "\n",
        "*h=Height\n",
        "\n",
        "And two methods:\n",
        "\n",
        "*Volume = Π * r2 * (h/3)\n",
        "\n",
        "*Surface area : base : Π * r2 , side : Π * r * √(r2 + h2)\n",
        "\n",
        "Make only one class with functions,as in where required import Math.\n"
      ],
      "execution_count": null,
      "outputs": []
    },
    {
      "cell_type": "code",
      "metadata": {
        "id": "j9V9c_OxRo7A",
        "colab_type": "code",
        "colab": {}
      },
      "source": [
        "class cone():\n",
        "  def __init__(self,Radius,Height):\n",
        "    self.Radius=Radius\n",
        "    self.Height=Height\n",
        "\n",
        "  def volume(self):\n",
        "    v=3.14*self.Radius*self.Radius*(self.Height/3)\n",
        "    print(\"volume of cone is\",v,\"units.\")\n",
        "\n",
        "  def surfacearea(self):\n",
        "      import math\n",
        "      SA=input(\"which surface area do you want? \\n1. base \\n2. side \\n3. total \\nEnter 1,2 or3 -\" )\n",
        "      SA=int(SA)\n",
        "      while (SA!=1 and SA!=2 and SA!=3):\n",
        "        SA=int(input(\"Enter valid option among 1,2 & 3-\"))\n",
        "      else:\n",
        "          if(SA==1):\n",
        "            SAB=3.14*self.Radius*self.Radius\n",
        "            print(\"Surface area of base of cone is\",SAB,\"units.\")\n",
        "          elif(SA==2):\n",
        "              SAS=3.14*self.Radius*(math.sqrt(self.Radius*self.Radius)+(self.Height*self.Height))\n",
        "              print(\"Surface area of side of cone is\",SAS,\"units.\")\n",
        "          else:\n",
        "                SAT=(3.14*self.Radius*self.Radius)+(3.14*self.Radius*(math.sqrt(self.Radius*self.Radius)+(self.Height*self.Height)))\n",
        "                print(\"Totle surface area of cone is\",SAT,\"units\")\n",
        "\n"
      ],
      "execution_count": 44,
      "outputs": []
    },
    {
      "cell_type": "code",
      "metadata": {
        "id": "ZM1_vUCAaCIM",
        "colab_type": "code",
        "colab": {}
      },
      "source": [
        "cones=cone(13,10)"
      ],
      "execution_count": 45,
      "outputs": []
    },
    {
      "cell_type": "code",
      "metadata": {
        "id": "Mbm5f6lwaVPQ",
        "colab_type": "code",
        "colab": {
          "base_uri": "https://localhost:8080/",
          "height": 34
        },
        "outputId": "472d266b-6eb6-41b7-fb09-2c81841d44ba"
      },
      "source": [
        "cones.volume()"
      ],
      "execution_count": 46,
      "outputs": [
        {
          "output_type": "stream",
          "text": [
            "volume of cone is 1768.8666666666666 units.\n"
          ],
          "name": "stdout"
        }
      ]
    },
    {
      "cell_type": "code",
      "metadata": {
        "id": "1CajI5Xbb20e",
        "colab_type": "code",
        "colab": {
          "base_uri": "https://localhost:8080/",
          "height": 118
        },
        "outputId": "39e41568-2df2-4e67-cf6d-3c0630d0cb56"
      },
      "source": [
        "cones.surfacearea()"
      ],
      "execution_count": 47,
      "outputs": [
        {
          "output_type": "stream",
          "text": [
            "which surface area do you want? \n",
            "1. base \n",
            "2. side \n",
            "3. total \n",
            "Enter 1,2 or3 -2\n",
            "Surface area of side of cone is 4612.66 units.\n"
          ],
          "name": "stdout"
        }
      ]
    }
  ]
}