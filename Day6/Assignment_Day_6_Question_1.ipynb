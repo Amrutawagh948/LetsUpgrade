{
  "nbformat": 4,
  "nbformat_minor": 0,
  "metadata": {
    "colab": {
      "name": "Assignment Day 6 Question 1.ipynb",
      "provenance": [],
      "collapsed_sections": []
    },
    "kernelspec": {
      "name": "python3",
      "display_name": "Python 3"
    }
  },
  "cells": [
    {
      "cell_type": "code",
      "metadata": {
        "id": "DQnz4_MpaYGI",
        "colab_type": "code",
        "colab": {}
      },
      "source": [
        "Question 1\n",
        "\n",
        "For this challenge,create a bank account class that has two attributes\n",
        "\n",
        " *ownerName\n",
        "\n",
        " *Balance\n",
        "\n",
        "And two methods\n",
        "\n",
        " *deposit\n",
        "\n",
        " *withdraw\n",
        "\n",
        "As an added requirement,withdrawals may not exceed the available balance.\n",
        "\n",
        " Instantiate your class,make several deposits and withdrawals,and test to make sure the account cant be overdrawn.\n",
        "\n"
      ],
      "execution_count": null,
      "outputs": []
    },
    {
      "cell_type": "code",
      "metadata": {
        "id": "MxTQlq_KGBUC",
        "colab_type": "code",
        "colab": {}
      },
      "source": [
        "class bankdetails():\n",
        "  def __init__(self,ownerName,balance):\n",
        "    self.ownerName=ownerName\n",
        "    self.balance=balance\n",
        "\n",
        "  def deposit(self):\n",
        "      deposit=input(\"Enter amount to deposit- \"\"RS\")\n",
        "      deposit=int(deposit)\n",
        "      self.balance+=deposit\n",
        "      print(\"Deposited amount- \",deposit,\"RS\")\n",
        "      print(\"Available balance- \",self.balance,\"RS\")\n",
        "\n",
        "  def withdraw(self):\n",
        "        draw=input(\"Enter withdraw amount- RS\")\n",
        "        draw=int(draw)\n",
        "        while not (draw<=self.balance):\n",
        "          print(\"Available balance to withdraw- \",self.balance,\"RS\")\n",
        "          draw=int(input(\"Enter amount to withdraw- \"\"RS\"))\n",
        "        else:\n",
        "          self.balance-=draw\n",
        "          print(\"Withdraw amount-\",draw,\" RS\")\n",
        "          print(\"Available balance\",self.balance,\"RS\")\n"
      ],
      "execution_count": null,
      "outputs": []
    },
    {
      "cell_type": "code",
      "metadata": {
        "id": "84OtZH1hJA3x",
        "colab_type": "code",
        "colab": {}
      },
      "source": [
        "Amruta=bankdetails(\"Amruta Wagh\",10000)"
      ],
      "execution_count": null,
      "outputs": []
    },
    {
      "cell_type": "code",
      "metadata": {
        "id": "_SyK9iZRJh46",
        "colab_type": "code",
        "colab": {
          "base_uri": "https://localhost:8080/",
          "height": 67
        },
        "outputId": "dbbc7228-df70-49d2-f773-a54a04175988"
      },
      "source": [
        "Amruta.deposit()"
      ],
      "execution_count": null,
      "outputs": [
        {
          "output_type": "stream",
          "text": [
            "Enter amount to deposit- RS1310\n",
            "Deposited amount-  1310 RS\n",
            "Available balance-  11310 RS\n"
          ],
          "name": "stdout"
        }
      ]
    },
    {
      "cell_type": "code",
      "metadata": {
        "id": "McOFZ4EtPyhy",
        "colab_type": "code",
        "colab": {
          "base_uri": "https://localhost:8080/",
          "height": 67
        },
        "outputId": "64530429-949a-4e12-8924-e578497c5192"
      },
      "source": [
        "Amruta.withdraw()"
      ],
      "execution_count": null,
      "outputs": [
        {
          "output_type": "stream",
          "text": [
            "Enter withdraw amount- RS730\n",
            "Withdraw amount- 730  RS\n",
            "Available balance 10580 RS\n"
          ],
          "name": "stdout"
        }
      ]
    }
  ]
}